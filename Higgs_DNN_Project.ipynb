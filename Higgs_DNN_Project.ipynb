{
 "cells": [
  {
   "cell_type": "markdown",
   "id": "b3d8cee2-2b1d-495b-84c4-b90301fa1c50",
   "metadata": {},
   "source": [
    "This notebook uses ATLAS Open Data https://opendata.atlas.cern to show you the steps to rediscover the Higgs boson yourself!"
   ]
  },
  {
   "cell_type": "markdown",
   "id": "eeee5d60-6e46-48c7-9514-2a216ccc106f",
   "metadata": {},
   "source": [
    "# What is the Higgs boson?\n",
    "\n",
    "The Higgs boson is a fundamental particle predicted by the Standard Model. It is a manifestation of the Higgs field, which gives mass to the fundamental particles. \n",
    "However, it is incredibly hard to produce. At the LHC, a Higgs particle is produced about once every 10 billion collisions! \n",
    "This tiny fraction makes it very difficult to detect. \n",
    "Nevertheless, after years of data collection, the Higgs boson was finally discovered in 2012 by CMS and ATLAS experiments at CERN. In this tutorial, we shall be following their example."
   ]
  },
  {
   "cell_type": "markdown",
   "id": "cd605c7c-b07e-4ae7-9f46-238c5fb1bd83",
   "metadata": {},
   "source": [
    "# Detecting the Higgs\n",
    "\n",
    "The Higgs boson can be produced in many different ways.  In particle physics, we describe these production modes using Feynman diagrams.  \n",
    "These diagrams allow us to visualize particle processes while also acting as powerful tools for calculations.  \n",
    "\n",
    "There are four main production modes of the Higgs boson, and their respective Feynman diagrams:\n",
    "\n",
    "- **Gluon-gluon fusion** (top left)  \n",
    "- **Vector boson fusion** (top right)  \n",
    "- **Vector boson bremsstrahlung** (bottom left)  \n",
    "- **Top-antitop fusion** (bottom right)  \n",
    "\n",
    "<CENTER>\n",
    "<img src=\"ggH.png\" style=\"width:20%\"> \n",
    "    \n",
    "<img src=\"VBFH.png\" style=\"width:15%\">\n",
    "</CENTER>\n",
    "\n",
    "\n",
    "\n",
    "<CENTER>\n",
    "<img src=\"WH.png\" style=\"width:20%\"> \n",
    "    \n",
    "<img src=\"ttbarfusion.png\" style=\"width:15%\">\n",
    "</CENTER>\n"
   ]
  },
  {
   "cell_type": "markdown",
   "id": "45d3ec33-51e7-43f8-8d7b-e064014ca63b",
   "metadata": {},
   "source": [
    "## Higgs Boson Decay\n",
    "\n",
    "The Higgs has a very short lifetime, on the order of \\(10^{-22} \\, \\text{s}\\). It decays almost instantaneously after production, so there is no hope of directly detecting the particle. Nevertheless, we can use the Standard Model to predict its decay products: photons, \\(Z\\)-bosons, quarks, etc., each with different probabilities. These **decay channels** can be used to identify the Higgs boson. \n",
    "\n",
    "In this notebook, we'll focus on one particular decay channel:  $ H \\rightarrow ZZ^* \\rightarrow \\ell\\ell\\ell\\ell $\n",
    "\n",
    "<CENTER><img src=\"HZZ_feynman_1.png\" style=\"width:20%\"></CENTER>\n",
    "\n",
    "We refer to this as our desired **signal**. Ideally, we would search for collisions that yield four leptons as products to identify the Higgs boson.  \n",
    "\n"
   ]
  },
  {
   "cell_type": "markdown",
   "id": "48bb9055-0f9d-4cd7-8c9e-0af78eb2582f",
   "metadata": {},
   "source": [
    "## Background Processes\n",
    "\n",
    "In addition to our signal, many other **background processes** can produce four leptons in the final state. The main background is: $ZZ^* \\rightarrow \\ell\\ell\\ell\\ell$\n",
    "\n",
    "Here, the decay products mimic those in the Higgs decay. This is known as an **irreducible background**.\n",
    "\n",
    "<CENTER><img src=\"ZZllll.png\" style=\"width:20%\"></CENTER>\n",
    "\n",
    "We can distinguish the Higgs boson signal by examining the total **invariant mass** of the lepton products. By conservation of energy and momentum, the invariant mass of the products should equal the Higgs mass $(125 \\, \\text{GeV})$, while background processes will have different invariant masses.\n",
    "\n",
    "Other backgrounds include:\n",
    "1. **Z + jets**: Additional leptons arise from misidentified jets.\n",
    "2. **Top-antitop processes**: Leptons come from the semi-leptonic decay of heavy flavor.\n",
    "\n",
    "<CENTER>\n",
    "<img src=\"Zllll.png\" style=\"width:20%\"> \n",
    "<img src=\"ttbar.png\" style=\"width:20%\">\n",
    "</CENTER>\n",
    "\n",
    "---\n"
   ]
  },
  {
   "cell_type": "markdown",
   "id": "240ff3ef-8161-4e6d-8cf0-850be365d01d",
   "metadata": {},
   "source": [
    "\n",
    "Note: \n",
    " $Z^*$ refers to a \n",
    " boson that is off its mass shell. This means that its mass is not fixed to the \n",
    " of a typical \n",
    " boson.\n"
   ]
  },
  {
   "cell_type": "markdown",
   "id": "46daadec-3066-4960-a3f9-7a83c6afeeca",
   "metadata": {},
   "source": [
    "# Let's Start ! \n",
    "Learn to process large data sets, \n",
    "Understand some general principles of a particle physics analysis,\n",
    "Discover the Higgs boson!\n"
   ]
  },
  {
   "cell_type": "code",
   "execution_count": 11,
   "id": "4519a319-b04f-461b-a081-c0863cfeabfd",
   "metadata": {},
   "outputs": [
    {
     "name": "stderr",
     "output_type": "stream",
     "text": [
      "2024-11-29 06:34:48.617402: E external/local_xla/xla/stream_executor/cuda/cuda_fft.cc:485] Unable to register cuFFT factory: Attempting to register factory for plugin cuFFT when one has already been registered\n",
      "2024-11-29 06:34:49.093331: E external/local_xla/xla/stream_executor/cuda/cuda_dnn.cc:8454] Unable to register cuDNN factory: Attempting to register factory for plugin cuDNN when one has already been registered\n",
      "2024-11-29 06:34:49.294235: E external/local_xla/xla/stream_executor/cuda/cuda_blas.cc:1452] Unable to register cuBLAS factory: Attempting to register factory for plugin cuBLAS when one has already been registered\n",
      "2024-11-29 06:34:50.831694: I tensorflow/core/platform/cpu_feature_guard.cc:210] This TensorFlow binary is optimized to use available CPU instructions in performance-critical operations.\n",
      "To enable the following instructions: AVX2 FMA, in other operations, rebuild TensorFlow with the appropriate compiler flags.\n",
      "2024-11-29 06:35:31.564379: W tensorflow/compiler/tf2tensorrt/utils/py_utils.cc:38] TF-TRT Warning: Could not find TensorRT\n"
     ]
    }
   ],
   "source": [
    "import pandas as pd\n",
    "import numpy as np\n",
    "import matplotlib.pyplot as plt\n",
    "import uproot as up\n",
    "from sklearn.model_selection import train_test_split\n",
    "from sklearn.preprocessing import StandardScaler\n",
    "from sklearn.utils.class_weight import compute_class_weight\n",
    "from sklearn.metrics import accuracy_score\n",
    "from sklearn.metrics import precision_score\n",
    "from sklearn.metrics import roc_curve, auc\n",
    "import seaborn as sns\n",
    "import joblib\n",
    "\n",
    "from tensorflow import keras\n",
    "from tensorflow.keras import layers"
   ]
  },
  {
   "cell_type": "markdown",
   "id": "5d785c29-d67e-46d6-97df-85dafdd89efe",
   "metadata": {},
   "source": [
    "1) Load signal and background training files. \n",
    "2) Convert into Dataframe\n",
    "3) Specify Signal Class as 1 and Background Class as 0\n",
    "4) Print the number of Signal and Background Events.\n",
    "5) Concat signal and Backgorund dataframce as df, Also specify Class dataframe column as y_df\n",
    "6) Choose the variables and plot the variables that you are going to use for training purpose\n",
    "7) Plot the coorrelation between your variables\n",
    "8) Define X_train and X_test using sklearn train_test_split function\n",
    "9) Preprocess using StandardScalar\n",
    "10) Calcualte scale_pos_weight\n",
    "11) Train DNN\n",
    "12) Print Accuracy, Precisison \n",
    "13) Plot ROC \n",
    "14) Plot DNN Score for train and test samples\n",
    "15) Evaluation:  Load test signal, background and data validation files and convert into Dataframes for each\n",
    "16) Make two dataframe for each samples: one with variables used in training and another eith varaibels used in the training + total_weight\n",
    "17) Preprocess: eg: y_s_1 = scaler.transform(v_df_s)\n",
    "18) Load pre-trained DNN Model and calculate DNN score for each samples\n",
    "19) Save score as a column in corresponing sample dataframe\n",
    "20) Plot Stacked histogram: signal, bakcgoround. Plot data point with error\n",
    "21) Choose the bins where signal is concentrated and calulate significance (usually last few bins)\n",
    "22) Report the Signifincae"
   ]
  }
 ],
 "metadata": {
  "kernelspec": {
   "display_name": "Python 3 (ipykernel)",
   "language": "python",
   "name": "python3"
  },
  "language_info": {
   "codemirror_mode": {
    "name": "ipython",
    "version": 3
   },
   "file_extension": ".py",
   "mimetype": "text/x-python",
   "name": "python",
   "nbconvert_exporter": "python",
   "pygments_lexer": "ipython3",
   "version": "3.12.2"
  }
 },
 "nbformat": 4,
 "nbformat_minor": 5
}
